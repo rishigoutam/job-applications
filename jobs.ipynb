{
 "cells": [
  {
   "cell_type": "code",
   "execution_count": null,
   "metadata": {},
   "outputs": [],
   "source": [
    "import pandas as pd\n",
    "import plotly.express as px\n",
    "import plotly.graph_objects as go\n",
    "from datetime import datetime"
   ]
  },
  {
   "cell_type": "markdown",
   "metadata": {},
   "source": [
    "# Get data from our \"database\""
   ]
  },
  {
   "cell_type": "code",
   "execution_count": null,
   "metadata": {
    "pycharm": {
     "name": "#%%\n"
    }
   },
   "outputs": [],
   "source": [
    "# See: https://towardsdatascience.com/read-data-from-google-sheets-into-pandas-without-the-google-sheets-api-5c468536550\n",
    "sheet_id = \"1q8MB-H49pd1ojqZzMbs0ExbMkWKl0Ll0cyJ3_OpF3_g\"\n",
    "sheet_name = \"Job_Search_Status\"\n",
    "url = f\"https://docs.google.com/spreadsheets/d/{sheet_id}/gviz/tq?tqx=out:csv&sheet={sheet_name}\"\n",
    "\n",
    "df = pd.read_csv(url, usecols=range(0, 11))"
   ]
  },
  {
   "cell_type": "markdown",
   "metadata": {},
   "source": [
    "# Data Analysis\n",
    "\n",
    "## Where are we finding jobs?"
   ]
  },
  {
   "cell_type": "code",
   "execution_count": null,
   "metadata": {
    "pycharm": {
     "name": "#%%\n"
    }
   },
   "outputs": [],
   "source": [
    "nycdsa = (\n",
    "    df.groupby(\"Source\")[\"Company\"]\n",
    "    .nunique()\n",
    "    .reset_index()\n",
    "    .rename(columns={\"Company\": \"Positions\"})\n",
    ")\n",
    "fig = px.pie(nycdsa, values=\"Positions\", names=\"Source\", title=\"Applications by Source\")\n",
    "colors = [\"gold\", \"mediumturquoise\", \"darkorange\", \"lightgreen\"]\n",
    "fig.update_traces(\n",
    "    hoverinfo=\"label+percent\",\n",
    "    textinfo=\"value\",\n",
    "    textfont_size=20,\n",
    "    marker=dict(colors=colors, line=dict(color=\"#151515\", width=2)),\n",
    ")\n",
    "fig.show()"
   ]
  },
  {
   "cell_type": "markdown",
   "metadata": {},
   "source": [
    "## What industries are we targeting?\n",
    "Note: the data is not complete. We don't know the industry for each job"
   ]
  },
  {
   "cell_type": "code",
   "execution_count": null,
   "metadata": {
    "pycharm": {
     "name": "#%%\n"
    }
   },
   "outputs": [],
   "source": [
    "industry = (\n",
    "    df.groupby(\"Industry\")[\"Company\"]\n",
    "    .nunique()\n",
    "    .reset_index()\n",
    "    .rename(columns={\"Company\": \"Jobs\"})\n",
    "    .sort_values(by=\"Jobs\", ascending=False)\n",
    "    .head(10)\n",
    ")\n",
    "\n",
    "fig = px.bar(industry, title=\"Jobs by Industry (top 10)\", x=\"Industry\", y=\"Jobs\")\n",
    "fig.show()"
   ]
  },
  {
   "cell_type": "markdown",
   "metadata": {},
   "source": [
    "## Let's see our effort over time"
   ]
  },
  {
   "cell_type": "code",
   "execution_count": null,
   "metadata": {
    "pycharm": {
     "name": "#%%\n"
    }
   },
   "outputs": [],
   "source": [
    "apps_time = (\n",
    "    df.groupby(\"App Date\")[[\"Company\"]]\n",
    "    .nunique()\n",
    "    .reset_index()\n",
    "    .rename(columns={\"Company\": \"Applications\", \"App Date\": \"Date\"})\n",
    ")\n",
    "apps_time[\"Date\"] = pd.to_datetime(apps_time[\"Date\"])\n",
    "apps_time[\"Applications\"] = apps_time[\"Applications\"].cumsum()\n",
    "\n",
    "fig = px.line(\n",
    "    apps_time, x=\"Date\", y=\"Applications\", title=\"Number of applications over time\"\n",
    ")\n",
    "fig.show()"
   ]
  },
  {
   "cell_type": "markdown",
   "metadata": {},
   "source": [
    "## What is the current status across our applications?"
   ]
  },
  {
   "cell_type": "code",
   "execution_count": null,
   "metadata": {
    "pycharm": {
     "name": "#%%\n"
    }
   },
   "outputs": [],
   "source": [
    "today = datetime.today()\n",
    "\n",
    "# Split status `Applied` -> `Open` and `No Response` categories\n",
    "app_status = df[[\"Status\", \"App Date\"]]\n",
    "app_status[\"App Date\"] = pd.to_datetime(app_status[\"App Date\"])\n",
    "app_status[\"Status\"] = app_status.apply(\n",
    "    lambda row: \"Open\"\n",
    "    if (row[\"Status\"] == \"Applied\" and (today - row[\"App Date\"]).days < 10)\n",
    "    else \"No response\"\n",
    "    if row[\"Status\"] == \"Applied\"\n",
    "    else row[\"Status\"],\n",
    "    axis=1,\n",
    ")\n",
    "app_status = app_status.Status.value_counts().reindex(\n",
    "    index=[\n",
    "        \"Open\",\n",
    "        \"No response\",\n",
    "        \"Rejected\",\n",
    "        \"Interview\",\n",
    "        \"Onsite\",\n",
    "        \"Chosen\",\n",
    "        \"Accepted\",\n",
    "    ]\n",
    ")"
   ]
  },
  {
   "cell_type": "code",
   "execution_count": null,
   "metadata": {
    "pycharm": {
     "name": "#%%\n"
    }
   },
   "outputs": [],
   "source": [
    "fig = px.bar(\n",
    "    app_status,\n",
    "    color=app_status.index,\n",
    "    labels={\"value\": \"Applications\", \"index\": \"Status\"},\n",
    "    title=f\"Application status ({app_status.sum()} positions)\",\n",
    ")\n",
    "fig.show()"
   ]
  },
  {
   "cell_type": "markdown",
   "metadata": {},
   "source": [
    "## Let's see this whole picture!"
   ]
  },
  {
   "cell_type": "code",
   "execution_count": null,
   "metadata": {
    "pycharm": {
     "name": "#%%\n"
    }
   },
   "outputs": [],
   "source": [
    "# add application status. NOTE: we update the `Interview` value /after/ the total\n",
    "total_applications = app_status.sum()\n",
    "app_status[\"Interview\"] = (\n",
    "    app_status.Interview + app_status.Onsite + app_status.Chosen + app_status.Accepted\n",
    ")\n",
    "\n",
    "status_values = [total_applications] + list(app_status.values)\n",
    "status_labels = [\"Applications\"] + list(app_status.index)\n",
    "\n",
    "status_colors = [\n",
    "    \"chartreuse\",\n",
    "    \"rgba(158,202,225,1)\",\n",
    "    \"rgba(254,178,76,1)\",\n",
    "    \"rgba(240,59,32,1)\",\n",
    "    \"rgba(247,252,185,1)\",\n",
    "    \"rgba(173,221,142,1)\",\n",
    "    \"rgba(49,163,84,1)\",\n",
    "    \"rgba(44,127,184,1)\",\n",
    "]\n",
    "status_link_colors = [\n",
    "    \"rgba(158,202,225,.4)\",\n",
    "    \"rgba(254,178,76,.2)\",\n",
    "    \"rgba(240,59,32,.2)\",\n",
    "    \"rgba(247,252,185,.5)\",\n",
    "    \"rgba(173,221,142,.2)\",\n",
    "    \"rgba(49,163,84,.2)\",\n",
    "    \"rgba(44,127,184,.2)\",\n",
    "]\n",
    "\n",
    "# also add application source as input into start node\n",
    "source_values = list(df.Source.value_counts().values)\n",
    "source_labels = list(df.Source.value_counts().index)\n",
    "source_colors = [\n",
    "    \"rgba(239,237,245,1)\",\n",
    "    \"rgba(239,237,245,1)\",\n",
    "    \"rgba(188,189,220,1)\",\n",
    "    \"rgba(117,107,177,1)\",\n",
    "]  # FAKE is duplicated color here\n",
    "source_link_colors = [\n",
    "    \"rgba(239,237,245,.5)\",\n",
    "    \"rgba(239,237,245,.5)\",\n",
    "    \"rgba(188,189,220,.5)\",\n",
    "    \"rgba(117,107,177,.5)\",\n",
    "]\n",
    "\n",
    "# merge job source and job status\n",
    "values = source_values + status_values\n",
    "labels = source_labels + status_labels\n",
    "labels_with_values = [\"%s: %s\" % x for x in zip(labels, values)]\n",
    "colors = source_colors + status_colors\n",
    "link_colors = source_link_colors + status_link_colors\n",
    "\n",
    "source_sources = [0, 1, 2, 3]\n",
    "source_targets = [4, 4, 4, 4]\n",
    "status_sources = [x + len(source_sources) for x in [0, 0, 0, 0, 4, 5, 6, 7]]\n",
    "status_targets = [x + len(source_targets) for x in [1, 2, 3, 4, 5, 6, 7, 8]]\n",
    "sources = source_sources + status_sources\n",
    "targets = source_targets + status_targets\n",
    "\n",
    "# HACK remove the value for \"Application\"\n",
    "del values[len(source_sources)]\n",
    "\n",
    "fig = go.Figure(\n",
    "    data=[\n",
    "        go.Sankey(\n",
    "            arrangement=\"freeform\",\n",
    "            valueformat=\".0f\",\n",
    "            node=dict(\n",
    "                pad=15,\n",
    "                thickness=20,\n",
    "                line=dict(color=\"#151515\", width=0.5),\n",
    "                label=labels_with_values,\n",
    "                color=colors,\n",
    "                x=[0.1, 0.1, 0.1, 0.1, 0.25, 0.35, 0.4, 0.4, 0.45, 0.5, 0.55, 0.65],\n",
    "                y=[0.2, 0.7, 0.8, 1.0, 0.50, 0.10, 0.5, 0.7, 1.00, 0.7, 0.60, 0.50],\n",
    "                customdata=labels,\n",
    "                hovertemplate=\"%{customdata}\",\n",
    "            ),\n",
    "            link=dict(\n",
    "                source=sources,\n",
    "                target=targets,\n",
    "                value=values,\n",
    "                color=link_colors,\n",
    "                hoverinfo=\"skip\",\n",
    "            ),\n",
    "        )\n",
    "    ]\n",
    ")\n",
    "\n",
    "fig.update_layout(\n",
    "    title_text=f\"Rishi's Job Search Status<br>{today.strftime('%Y-%m-%d')}<br>(Includes fake data)\",\n",
    "    font_size=10,\n",
    ")\n",
    "fig.show()"
   ]
  },
  {
   "cell_type": "code",
   "execution_count": null,
   "metadata": {
    "pycharm": {
     "name": "#%%\n"
    }
   },
   "outputs": [],
   "source": []
  }
 ],
 "metadata": {
  "kernelspec": {
   "display_name": "Python 3",
   "language": "python",
   "name": "python3"
  },
  "language_info": {
   "codemirror_mode": {
    "name": "ipython",
    "version": 2
   },
   "file_extension": ".py",
   "mimetype": "text/x-python",
   "name": "python",
   "nbconvert_exporter": "python",
   "pygments_lexer": "ipython2",
   "version": "2.7.6"
  }
 },
 "nbformat": 4,
 "nbformat_minor": 0
}
